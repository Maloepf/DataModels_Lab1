{
 "cells": [
  {
   "cell_type": "markdown",
   "metadata": {},
   "source": [
    "# Fisrt part"
   ]
  },
  {
   "cell_type": "markdown",
   "metadata": {},
   "source": [
    "## Exercise 3"
   ]
  },
  {
   "cell_type": "markdown",
   "metadata": {},
   "source": [
    "``` mysql\n",
    "CREATE TABLE Flight (\n",
    "id_flight VARCHAR(20) PRIMARY KEY,\n",
    "    maximum_capacity SMALLINT CHECK (maximum_capacity >= 0 AND maximum_capacity <= 999),\n",
    "    current_capacity SMALLINT CHECK (current_capacity >= 0 AND current_capacity <= 999)\n",
    "    -- Autres colonnes de votre table Flight\n",
    ");\n",
    "```\n"
   ]
  },
  {
   "cell_type": "markdown",
   "metadata": {},
   "source": [
    "``` mysql\n",
    "CREATE TABLE Booking(\n",
    "Id_booking INT AUTO_INCREMENT PRIMARY KEY,\n",
    "client_name VARCHAR(50),\n",
    "quantity TINYINT CHECK (quantity>=0 AND quantity<=99),\n",
    "id_flight VARCHAR(20) NOT NULL,\n",
    "FOREIGN KEY (id_flight) REFERENCES Flight(id_flight));\n",
    "\n",
    "```"
   ]
  },
  {
   "cell_type": "markdown",
   "metadata": {},
   "source": [
    "## Exercise 4"
   ]
  },
  {
   "cell_type": "code",
   "execution_count": 4,
   "metadata": {},
   "outputs": [
    {
     "name": "stdout",
     "output_type": "stream",
     "text": [
      "Requirement already satisfied: mariadb in c:\\users\\malol\\appdata\\local\\programs\\python\\python312\\lib\\site-packages (1.1.10)\n",
      "Requirement already satisfied: packaging in c:\\users\\malol\\appdata\\local\\programs\\python\\python312\\lib\\site-packages (from mariadb) (23.2)\n"
     ]
    }
   ],
   "source": [
    "!pip install mariadb"
   ]
  },
  {
   "cell_type": "code",
   "execution_count": 5,
   "metadata": {},
   "outputs": [],
   "source": [
    "# Module Imports\n",
    "import mariadb\n",
    "import time\n",
    "import random\n",
    "import threading"
   ]
  },
  {
   "cell_type": "code",
   "execution_count": 3,
   "metadata": {},
   "outputs": [],
   "source": [
    "# Execption used to stop the Notebook cell execution politely\n",
    "class StopExecution(Exception):\n",
    "    def _render_traceback_(self):\n",
    "        pass\n",
    "# Connect to the server and return a Connection object for the db_name database.\n",
    "def connectToDB(db_name):\n",
    "    try:\n",
    "        return mariadb.connect(\n",
    "            user=\"root\",\n",
    "            password=\"myPa$$\",\n",
    "            host=\"localhost\", # Use of localhost because 1/ we don't have acces to the docker local network 2/ we have made a port redirection from the mariadb server to the host\n",
    "            port=3306,\n",
    "            database=db_name\n",
    "        )\n",
    "    \n",
    "    except mariadb.Error as e:\n",
    "        print(f\"Error connecting to MariaDB Platform: {e}\")\n",
    "        raise StopExecution\n",
    "    \n",
    "conn = connectToDB(\"Flight_reservation_app\")\n"
   ]
  },
  {
   "cell_type": "code",
   "execution_count": 4,
   "metadata": {},
   "outputs": [
    {
     "name": "stdout",
     "output_type": "stream",
     "text": [
      "** Booking **\n",
      "Field           \tType      \tNull\tKey\tDefault\tExtra\n",
      "Id_booking      \tint(11)   \tNO\tPRI\tNone\tauto_increment\n",
      "client_name     \tvarchar(50)\tYES\t\tNone\t\n",
      "quantity        \ttinyint(4)\tYES\t\tNone\t\n",
      "id_flight       \tvarchar(20)\tNO\tMUL\tNone\t\n",
      "** Flight **\n",
      "Field           \tType      \tNull\tKey\tDefault\tExtra\n",
      "id_flight       \tvarchar(20)\tNO\tPRI\tNone\t\n",
      "maximum_capacity\tsmallint(6)\tYES\t\tNone\t\n",
      "current_capacity\tsmallint(6)\tYES\t\tNone\t\n"
     ]
    }
   ],
   "source": [
    "# A bit of dark magic? Just two intrincated query, one to get the TABLES, one for each TABLE to get the COLUMNS.\n",
    "# And a clever use of format to have aligned columns.\n",
    "def showTablesAndColumns(conn):\n",
    "    cur = conn.cursor()\n",
    "    # Query the tables\n",
    "    cur.execute(\"SHOW TABLES;\")\n",
    "    # For each table\n",
    "    for table in cur.fetchall():\n",
    "        print(\"**\",table[0],\"**\")\n",
    "        # Defining the output format {:16} indicate at least 16 characters, add spaces if necessary\n",
    "        outputFormat=\"{:16}\\t{:10}\\t{}\\t{}\\t{}\\t{}\"\n",
    "        # Printing the headers\n",
    "        print(outputFormat.format(\"Field\",\"Type\",\"Null\",\"Key\",\"Default\",\"Extra\"))\n",
    "    # Query the columns\n",
    "        cur.execute('SHOW COLUMNS FROM {};'.format(table[0]))\n",
    "    # For each column\n",
    "        for attribute in cur.fetchall():\n",
    "        # Print the attribute (*attribute give the content of the tuple to the format function)\n",
    "            print(outputFormat.format(*attribute))\n",
    "showTablesAndColumns(conn)"
   ]
  },
  {
   "cell_type": "code",
   "execution_count": 5,
   "metadata": {},
   "outputs": [],
   "source": [
    "def addFlight(id_flight, maximum_capacity):\n",
    "    conn = connectToDB(\"Flight_reservation_app\")\n",
    "    cur = conn.cursor()\n",
    "    try:\n",
    "        cur.execute(f\"INSERT INTO Flight (id_flight, maximum_capacity, current_capacity) VALUES ('{id_flight}', {maximum_capacity}, 0)\")\n",
    "        conn.commit()  # Commit the transaction\n",
    "    except Exception as e:\n",
    "        print(\"Error:\", e)  # Handle any exceptions\n",
    "        conn.rollback()  # Rollback the transaction if an error occurs\n",
    "    finally:\n",
    "        conn.close()  # Close the database connection"
   ]
  },
  {
   "cell_type": "code",
   "execution_count": 6,
   "metadata": {},
   "outputs": [],
   "source": [
    "def cleanDB(id_flight):\n",
    "    conn = connectToDB(\"Flight_reservation_app\")\n",
    "    cur = conn.cursor()\n",
    "    cur.execute(\"DELETE FROM Booking WHERE id_flight=%s;\",(id_flight,))\n",
    "    cur.execute(\"UPDATE Flight SET current_capacity=0 WHERE id_flight=%s;\",(id_flight,))\n",
    "    conn.commit() # Without commit the modification are not applied to the database\n",
    "    conn.close()"
   ]
  },
  {
   "cell_type": "code",
   "execution_count": 61,
   "metadata": {},
   "outputs": [],
   "source": [
    "def addBooking(id_flight, client_name, quantity):\n",
    "\n",
    "    #Connection to the database\n",
    "    conn = connectToDB(\"Flight_reservation_app\")\n",
    "    cur = conn.cursor()\n",
    "\n",
    "    #Test if the flight exists\n",
    "    try:\n",
    "        # Check if the flight exists\n",
    "        cur.execute(\"SET TRANSACTION ISOLATION LEVEL SERIALIZABLE\")\n",
    "        cur.execute(\"SELECT id_flight, maximum_capacity, current_capacity FROM Flight WHERE id_flight = %s\", (id_flight,))\n",
    "        flight_info = cur.fetchone()\n",
    "\n",
    "        if flight_info:\n",
    "\n",
    "            flight_left_seats=flight_info[1]-flight_info[2]\n",
    "            # Flight exists, proceed with booking\n",
    "            # Your booking insertion code goes here\n",
    "\n",
    "            if flight_left_seats>quantity:\n",
    "                time.sleep(random.randint(3, 5))\n",
    "                conn.begin()\n",
    "                #Enough seats available, proceed with booking\n",
    "                cur.execute(\"INSERT INTO Booking (id_flight, client_name, quantity) VALUES (%s, %s, %s)\", (id_flight, client_name, quantity))\n",
    "                #return (True, \"Booking added successfully\")\n",
    "                cur.execute(\"UPDATE Flight SET current_capacity = current_capacity + %s WHERE id_flight= %s\", (quantity, id_flight))\n",
    "                conn.commit()  # Commit the transaction\n",
    "                return  (False,\"Reserved\")\n",
    "            \n",
    "            else:\n",
    "                # Not enough seats available\n",
    "                return (False, \"Full\")\n",
    "            \n",
    "        else:\n",
    "            # Flight doesn't exist\n",
    "            return (False, \"Invalid\")\n",
    "        \n",
    "    except Exception as e:\n",
    "        print(\"Error:\", e)  # Handle any exceptions\n",
    "        conn.rollback()  # Rollback the transaction if an error occurs\n",
    "        return  (True,\"Error\")\n",
    "\n",
    "    finally:\n",
    "        conn.close()  # Close the database connection"
   ]
  },
  {
   "cell_type": "code",
   "execution_count": 43,
   "metadata": {},
   "outputs": [
    {
     "name": "stdout",
     "output_type": "stream",
     "text": [
      "Error: Duplicate entry 'LH6795' for key 'PRIMARY'\n",
      "(False, 'Reserved')\n",
      "(False, 'Reserved')\n",
      "(False, 'Reserved')\n",
      "(False, 'Full')\n"
     ]
    }
   ],
   "source": [
    "#Test for the creation of new flight\n",
    "\n",
    "addFlight(\"LH6795\",10)\n",
    "print(addBooking(\"LH6795\",\"Client 0\",1))\n",
    "print(addBooking(\"LH6795\",\"Client 1\",4))\n",
    "print(addBooking(\"LH6795\",\"Client 2\",3))\n",
    "print(addBooking(\"LH6795\",\"Client 3\",3))"
   ]
  },
  {
   "cell_type": "markdown",
   "metadata": {},
   "source": [
    "## Exercise 6"
   ]
  },
  {
   "cell_type": "code",
   "execution_count": 64,
   "metadata": {},
   "outputs": [],
   "source": [
    "def processBooking(id_flight, client_name, quantity):\n",
    "    print(\"Processing Flight\",id_flight,\"for\",client_name,\":\", quantity,\"seats.\")\n",
    "    retry,status = addBooking(id_flight,client_name,quantity)\n",
    "\n",
    "    while retry :\n",
    "        print(\"Retry Flight\",id_flight,\"for\",client_name,\":\",quantity,\"seats.\")\n",
    "        retry,status = addBooking(id_flight,client_name,quantity)\n",
    "        print(client_name,\":\",status)\n",
    "\n",
    "    print(client_name,\":\",status, \"Should retry:\",retry)"
   ]
  },
  {
   "cell_type": "code",
   "execution_count": 65,
   "metadata": {},
   "outputs": [
    {
     "name": "stdout",
     "output_type": "stream",
     "text": [
      "Processing Flight LH6795 for Client 0 : 2 seats.\n",
      "Processing Flight LH6795 for Client 1 : 1 seats.\n",
      "Processing Flight LH6795 for Client 2 : 1 seats.\n",
      "Processing Flight LH6795 for Client 3 : 3 seats.\n",
      "Processing Flight LH6795 for Client 4 : 3 seats.\n",
      "Error: Lock wait timeout exceeded; try restarting transaction\n",
      "Retry Flight LH6795 for Client 0 : 2 seats.\n",
      "Error: Lock wait timeout exceeded; try restarting transaction\n",
      "Error: Lock wait timeout exceeded; try restarting transaction\n",
      "Error: Lock wait timeout exceeded; try restarting transaction\n",
      "Retry Flight LH6795 for Client 2 : 1 seats.\n",
      "Retry Flight LH6795 for Client 3 : 3 seats.\n",
      "Retry Flight LH6795 for Client 1 : 1 seats.\n",
      "Client 4 : Reserved Should retry: False\n"
     ]
    }
   ],
   "source": [
    "# Test parameters\n",
    "id_flight=\"LH6795\"\n",
    "base_name=\"Client \"\n",
    "# Clean the db for the test\n",
    "cleanDB(id_flight)\n",
    "# Creating several Thread representing several client that try to book simultaneously a random number of seat\n",
    "jobs=[]\n",
    "for i in range(5):\n",
    "    jobs.append(threading.Thread(target=processBooking,args=(id_flight,base_name+str(i), random.randint(1,4))))\n",
    "# Start each job, giving 0.3s of delay between each\n",
    "for job in jobs:\n",
    "    job.start()\n",
    "    time.sleep(0.3)\n",
    "\n",
    "# Wait for all the thread to finish\n",
    "for job in jobs:\n",
    "    job.join()\n",
    "print(\"Finished\")"
   ]
  },
  {
   "cell_type": "markdown",
   "metadata": {},
   "source": [
    "### Exercise 6.1"
   ]
  },
  {
   "cell_type": "markdown",
   "metadata": {},
   "source": [
    "I changed the time.sleep to 1 because i had some trouble."
   ]
  },
  {
   "cell_type": "markdown",
   "metadata": {},
   "source": [
    "All client made their reservation, but there is more booked seat than avaible. In the sequential tes of exercise 5 for each new booking, a test is made to make sure that there are available seats, looks like it is note the case here because all reservatio are made at the same time. "
   ]
  },
  {
   "cell_type": "markdown",
   "metadata": {},
   "source": [
    "### Exercise 6.2\n"
   ]
  },
  {
   "cell_type": "markdown",
   "metadata": {},
   "source": [
    "When there is not a time sleep or when it is to small, not all client were able to make their reservation. But there isn't any real logic because many could have made a booking.\n",
    "\n",
    "the error message is : *Error: Lock wait timeout exceeded; try restarting transaction*\n",
    "\n",
    "\n",
    "The error message \"Lock wait timeout exceeded; try restarting transaction\" indicates that one or more transactions in the system are waiting for a lock on a resource, but the wait time has exceeded the timeout limit set by the database system. This could be due to contention for locks caused by multiple transactions trying to access the same resource concurrently."
   ]
  },
  {
   "cell_type": "markdown",
   "metadata": {},
   "source": [
    "### Exercise 6.3"
   ]
  },
  {
   "cell_type": "code",
   "execution_count": 53,
   "metadata": {},
   "outputs": [
    {
     "name": "stdout",
     "output_type": "stream",
     "text": [
      "REPEATABLE-READ\n"
     ]
    }
   ],
   "source": [
    "conn = connectToDB(\"Flight_reservation_app\")\n",
    "cur = conn.cursor()\n",
    "\n",
    "cur.execute(\"SELECT @@tx_ISOLATION;\")\n",
    "print (cur.fetchone()[0])\n",
    "\n",
    "conn.close()"
   ]
  },
  {
   "cell_type": "markdown",
   "metadata": {},
   "source": [
    "In a REPEATABLE READ isolation level:\n",
    "\n",
    "When a transaction starts, it sees a consistent snapshot of the database as it was at the start of the transaction.\n",
    "Any data read by the transaction will remain consistent throughout the transaction, even if other transactions modify the data.\n",
    "However, new data inserted by other transactions after the start of the current transaction will not be visible to the current transaction until it completes and starts a new transaction."
   ]
  },
  {
   "cell_type": "markdown",
   "metadata": {},
   "source": [
    "### Exercise 6.4"
   ]
  },
  {
   "cell_type": "markdown",
   "metadata": {},
   "source": []
  },
  {
   "cell_type": "markdown",
   "metadata": {},
   "source": [
    "### Exercise 6.5 "
   ]
  },
  {
   "cell_type": "markdown",
   "metadata": {},
   "source": []
  },
  {
   "cell_type": "markdown",
   "metadata": {},
   "source": [
    "### Exercise 6.6"
   ]
  },
  {
   "cell_type": "code",
   "execution_count": null,
   "metadata": {},
   "outputs": [],
   "source": [
    "conn = connectToDB(\"flight_reservation\")\n",
    "cur = conn.cursor()\n",
    "cur.execute(\"SET TRANSACTION ISOLATION LEVEL SERIALIZABLE\")\n",
    "cur.execute(\"SELECT COUNT(*) FROM Flight WHERE id_flight=?\",(id_flight,))"
   ]
  },
  {
   "cell_type": "markdown",
   "metadata": {},
   "source": [
    "In summary, transactions ensure data integrity in databases, while isolation levels control how transactions interact. Choices like READ UNCOMMITTED, READ COMMITTED, REPEATABLE READ, and SERIALIZABLE offer different trade-offs between consistency and concurrency.\n",
    "\n",
    "SERIALIZABLE provides the strongest consistency but may limit concurrency. REPEATABLE READ balances between consistency and concurrency. Lower levels like READ COMMITTED and READ UNCOMMITTED prioritize concurrency over consistency.\n",
    "\n",
    "Choosing the right isolation level depends on the application's requirements and performance considerations. While SERIALIZABLE offers strong consistency, it may not always be necessary or practical in high-concurrency scenarios. It's crucial to weigh the trade-offs and select the appropriate level for each situation."
   ]
  },
  {
   "cell_type": "markdown",
   "metadata": {},
   "source": [
    "# Seconde Part"
   ]
  },
  {
   "cell_type": "markdown",
   "metadata": {},
   "source": [
    "## Exercise 7.1"
   ]
  },
  {
   "cell_type": "markdown",
   "metadata": {},
   "source": [
    "![alt text](<ex_7_1_error image.png>)"
   ]
  },
  {
   "cell_type": "markdown",
   "metadata": {},
   "source": [
    "When you encounter the error message \"Warning: POST Content-Length of [X] bytes exceeds the limit of [Y] bytes\" during the import process in PhpMyAdmin, it indicates that the size of the SQL dump file being uploaded exceeds the maximum allowed size for POST requests in the PHP configuration.\n",
    "\n",
    "To fix this issue and successfully import the SQL dump file into your database, you can adjust the following PHP configuration settings:\n",
    "\n",
    "post_max_size: This setting determines the maximum size of POST data that PHP will accept. Increase this value to accommodate the size of your SQL dump file.\n",
    "upload_max_filesize: This setting controls the maximum size of uploaded files. Make sure it is set to a value equal to or greater than the size of your SQL dump file.\n",
    "To adjust these settings, you'll need access to the PHP configuration file (php.ini) on your web server. Here's how you can do it:\n",
    "\n",
    "Locate the php.ini file on your server. The location may vary depending on your server configuration, but common paths include /etc/php.ini or /etc/php/[version]/php.ini.\n",
    "Open the php.ini file in a text editor.\n",
    "Search for the post_max_size and upload_max_filesize directives.\n",
    "Increase the values of these directives to accommodate the size of your SQL dump file. For example:\n",
    "makefile\n",
    "Copy code\n",
    "post_max_size = 20M\n",
    "upload_max_filesize = 20M\n",
    "Save the changes to the php.ini file.\n",
    "Restart your web server to apply the changes.\n",
    "\n",
    "an other solution solution is to compress it to make smaller."
   ]
  },
  {
   "cell_type": "markdown",
   "metadata": {},
   "source": [
    "## Exercise 7.2"
   ]
  },
  {
   "cell_type": "markdown",
   "metadata": {},
   "source": [
    "The SQL request i choose to "
   ]
  },
  {
   "cell_type": "markdown",
   "metadata": {},
   "source": [
    "```mysql\n",
    "SHOW TABLES;\n",
    "```"
   ]
  },
  {
   "cell_type": "markdown",
   "metadata": {},
   "source": [
    "## Exercise 8.1"
   ]
  }
 ],
 "metadata": {
  "kernelspec": {
   "display_name": "Python 3",
   "language": "python",
   "name": "python3"
  },
  "language_info": {
   "codemirror_mode": {
    "name": "ipython",
    "version": 3
   },
   "file_extension": ".py",
   "mimetype": "text/x-python",
   "name": "python",
   "nbconvert_exporter": "python",
   "pygments_lexer": "ipython3",
   "version": "3.12.2"
  }
 },
 "nbformat": 4,
 "nbformat_minor": 2
}
